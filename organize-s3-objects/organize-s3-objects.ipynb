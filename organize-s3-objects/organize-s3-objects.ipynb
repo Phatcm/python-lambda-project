{
 "cells": [
  {
   "cell_type": "code",
   "execution_count": 60,
   "metadata": {},
   "outputs": [],
   "source": [
    "import boto3\n",
    "from datetime import datetime"
   ]
  },
  {
   "cell_type": "code",
   "execution_count": 61,
   "metadata": {},
   "outputs": [],
   "source": [
    "today = datetime.today()\n",
    "#format to ddmmyyyy\n",
    "today_formated = today.strftime(\"%d%m%Y\")"
   ]
  },
  {
   "cell_type": "code",
   "execution_count": 62,
   "metadata": {},
   "outputs": [
    {
     "data": {
      "text/plain": [
       "'14022023'"
      ]
     },
     "execution_count": 62,
     "metadata": {},
     "output_type": "execute_result"
    }
   ],
   "source": [
    "today_formated"
   ]
  },
  {
   "cell_type": "code",
   "execution_count": 63,
   "metadata": {},
   "outputs": [],
   "source": [
    "s3_client = boto3.client(\"s3\")\n",
    "bucket_name = \"phatcao-organize-s3-objects\""
   ]
  },
  {
   "cell_type": "code",
   "execution_count": 64,
   "metadata": {},
   "outputs": [],
   "source": [
    "#list all obj in s3 bucket\n",
    "list_object_response = s3_client.list_objects_v2(Bucket=bucket_name)"
   ]
  },
  {
   "cell_type": "code",
   "execution_count": 65,
   "metadata": {},
   "outputs": [
    {
     "data": {
      "text/plain": [
       "{'ResponseMetadata': {'RequestId': 'H7PFPET5GHECWQBA',\n",
       "  'HostId': 'Xx/JjNTPYY21qNEBVMqvJrgqgtkPWwqlwH8nFsE8GHqjkWlHXAwSnOO8JjT+nIylusJ1jmYHK/E=',\n",
       "  'HTTPStatusCode': 200,\n",
       "  'HTTPHeaders': {'x-amz-id-2': 'Xx/JjNTPYY21qNEBVMqvJrgqgtkPWwqlwH8nFsE8GHqjkWlHXAwSnOO8JjT+nIylusJ1jmYHK/E=',\n",
       "   'x-amz-request-id': 'H7PFPET5GHECWQBA',\n",
       "   'date': 'Tue, 14 Feb 2023 14:23:30 GMT',\n",
       "   'x-amz-bucket-region': 'ap-northeast-1',\n",
       "   'content-type': 'application/xml',\n",
       "   'transfer-encoding': 'chunked',\n",
       "   'server': 'AmazonS3'},\n",
       "  'RetryAttempts': 1},\n",
       " 'IsTruncated': False,\n",
       " 'Contents': [{'Key': '14022023/',\n",
       "   'LastModified': datetime.datetime(2023, 2, 14, 14, 20, 43, tzinfo=tzutc()),\n",
       "   'ETag': '\"d41d8cd98f00b204e9800998ecf8427e\"',\n",
       "   'Size': 0,\n",
       "   'StorageClass': 'STANDARD'},\n",
       "  {'Key': '14022023/Screenshot_20230214_020948.png',\n",
       "   'LastModified': datetime.datetime(2023, 2, 14, 14, 20, 44, tzinfo=tzutc()),\n",
       "   'ETag': '\"59b39e4d132f9e6117675f133e104633\"',\n",
       "   'Size': 84692,\n",
       "   'StorageClass': 'STANDARD'},\n",
       "  {'Key': '14022023/Screenshot_20230214_020955.png',\n",
       "   'LastModified': datetime.datetime(2023, 2, 14, 14, 20, 44, tzinfo=tzutc()),\n",
       "   'ETag': '\"9ae22c37f4d8788db40240873b98a248\"',\n",
       "   'Size': 76487,\n",
       "   'StorageClass': 'STANDARD'},\n",
       "  {'Key': '14022023/Screenshot_20230214_021245.png',\n",
       "   'LastModified': datetime.datetime(2023, 2, 14, 14, 20, 45, tzinfo=tzutc()),\n",
       "   'ETag': '\"5133ddcdacb45c13489b791eb7d71133\"',\n",
       "   'Size': 73915,\n",
       "   'StorageClass': 'STANDARD'},\n",
       "  {'Key': '14022023/Screenshot_20230214_021855.png',\n",
       "   'LastModified': datetime.datetime(2023, 2, 14, 14, 20, 45, tzinfo=tzutc()),\n",
       "   'ETag': '\"ba5599cbc2bdec2cfca614fd626388db\"',\n",
       "   'Size': 84567,\n",
       "   'StorageClass': 'STANDARD'},\n",
       "  {'Key': '14022023/Screenshot_20230214_023139.png',\n",
       "   'LastModified': datetime.datetime(2023, 2, 14, 14, 20, 45, tzinfo=tzutc()),\n",
       "   'ETag': '\"88cb2b3fb66fb11e1b36bf464f321149\"',\n",
       "   'Size': 53166,\n",
       "   'StorageClass': 'STANDARD'},\n",
       "  {'Key': '14022023/Screenshot_20230214_023144.png',\n",
       "   'LastModified': datetime.datetime(2023, 2, 14, 14, 20, 46, tzinfo=tzutc()),\n",
       "   'ETag': '\"40edc63fdd716519fc0473530e0dcb37\"',\n",
       "   'Size': 72960,\n",
       "   'StorageClass': 'STANDARD'},\n",
       "  {'Key': '14022023/Screenshot_20230214_023154.png',\n",
       "   'LastModified': datetime.datetime(2023, 2, 14, 14, 20, 46, tzinfo=tzutc()),\n",
       "   'ETag': '\"1f7fdef985cf37be1ec2776dc0c15608\"',\n",
       "   'Size': 90821,\n",
       "   'StorageClass': 'STANDARD'},\n",
       "  {'Key': '14022023/Screenshot_20230214_061125.png',\n",
       "   'LastModified': datetime.datetime(2023, 2, 14, 14, 20, 47, tzinfo=tzutc()),\n",
       "   'ETag': '\"2e23dfd4e7d6a41ad4f7fc9550197ed5\"',\n",
       "   'Size': 90901,\n",
       "   'StorageClass': 'STANDARD'},\n",
       "  {'Key': '14022023/Screenshot_20230214_095937.png',\n",
       "   'LastModified': datetime.datetime(2023, 2, 14, 14, 20, 47, tzinfo=tzutc()),\n",
       "   'ETag': '\"9ed7a7095ff1d53a7168310e407b206a\"',\n",
       "   'Size': 131710,\n",
       "   'StorageClass': 'STANDARD'},\n",
       "  {'Key': '21368576_1661452480562878_8933920407147048719_o.jpg',\n",
       "   'LastModified': datetime.datetime(2023, 2, 14, 14, 22, 46, tzinfo=tzutc()),\n",
       "   'ETag': '\"3edb5079671ff240246e9a3a7943ddd1\"',\n",
       "   'Size': 163611,\n",
       "   'StorageClass': 'STANDARD'},\n",
       "  {'Key': 'AWS-vs-Azure-vs-GCP.png',\n",
       "   'LastModified': datetime.datetime(2023, 2, 14, 14, 22, 49, tzinfo=tzutc()),\n",
       "   'ETag': '\"a4f8c0d4ecec982d3308bd5314be7046\"',\n",
       "   'Size': 182045,\n",
       "   'StorageClass': 'STANDARD'},\n",
       "  {'Key': 'index.png',\n",
       "   'LastModified': datetime.datetime(2023, 2, 14, 14, 22, 51, tzinfo=tzutc()),\n",
       "   'ETag': '\"54e81527d4eeb19fd7b5661dc2fcc060\"',\n",
       "   'Size': 9738,\n",
       "   'StorageClass': 'STANDARD'},\n",
       "  {'Key': 'large_1612697826664.jpg',\n",
       "   'LastModified': datetime.datetime(2023, 2, 14, 14, 22, 53, tzinfo=tzutc()),\n",
       "   'ETag': '\"ba04bea40da0e9361ad7707765497add\"',\n",
       "   'Size': 37151,\n",
       "   'StorageClass': 'STANDARD'},\n",
       "  {'Key': 'v2cmfx8rbdv11.jpg',\n",
       "   'LastModified': datetime.datetime(2023, 2, 14, 14, 22, 55, tzinfo=tzutc()),\n",
       "   'ETag': '\"9cbc44e1b2bff71a1d02a37b45a31fe3\"',\n",
       "   'Size': 116755,\n",
       "   'StorageClass': 'STANDARD'},\n",
       "  {'Key': 'wallpaperflare.com_wallpaper.jpg',\n",
       "   'LastModified': datetime.datetime(2023, 2, 14, 14, 22, 57, tzinfo=tzutc()),\n",
       "   'ETag': '\"425b8387f9a13885e75930a9dd3085f3\"',\n",
       "   'Size': 299316,\n",
       "   'StorageClass': 'STANDARD'},\n",
       "  {'Key': 'wide-3.jpg',\n",
       "   'LastModified': datetime.datetime(2023, 2, 14, 14, 22, 59, tzinfo=tzutc()),\n",
       "   'ETag': '\"32ff78f37419f33cd47918aa7fa3c6d5\"',\n",
       "   'Size': 37427,\n",
       "   'StorageClass': 'STANDARD'}],\n",
       " 'Name': 'phatcao-organize-s3-objects',\n",
       " 'Prefix': '',\n",
       " 'MaxKeys': 1000,\n",
       " 'EncodingType': 'url',\n",
       " 'KeyCount': 17}"
      ]
     },
     "execution_count": 65,
     "metadata": {},
     "output_type": "execute_result"
    }
   ],
   "source": [
    "list_object_response"
   ]
  },
  {
   "cell_type": "code",
   "execution_count": 66,
   "metadata": {},
   "outputs": [],
   "source": [
    "#ggget only contents in returned dictionary \n",
    "get_contents = list_object_response.get(\"Contents\")"
   ]
  },
  {
   "cell_type": "code",
   "execution_count": 67,
   "metadata": {},
   "outputs": [
    {
     "data": {
      "text/plain": [
       "[{'Key': '14022023/',\n",
       "  'LastModified': datetime.datetime(2023, 2, 14, 14, 20, 43, tzinfo=tzutc()),\n",
       "  'ETag': '\"d41d8cd98f00b204e9800998ecf8427e\"',\n",
       "  'Size': 0,\n",
       "  'StorageClass': 'STANDARD'},\n",
       " {'Key': '14022023/Screenshot_20230214_020948.png',\n",
       "  'LastModified': datetime.datetime(2023, 2, 14, 14, 20, 44, tzinfo=tzutc()),\n",
       "  'ETag': '\"59b39e4d132f9e6117675f133e104633\"',\n",
       "  'Size': 84692,\n",
       "  'StorageClass': 'STANDARD'},\n",
       " {'Key': '14022023/Screenshot_20230214_020955.png',\n",
       "  'LastModified': datetime.datetime(2023, 2, 14, 14, 20, 44, tzinfo=tzutc()),\n",
       "  'ETag': '\"9ae22c37f4d8788db40240873b98a248\"',\n",
       "  'Size': 76487,\n",
       "  'StorageClass': 'STANDARD'},\n",
       " {'Key': '14022023/Screenshot_20230214_021245.png',\n",
       "  'LastModified': datetime.datetime(2023, 2, 14, 14, 20, 45, tzinfo=tzutc()),\n",
       "  'ETag': '\"5133ddcdacb45c13489b791eb7d71133\"',\n",
       "  'Size': 73915,\n",
       "  'StorageClass': 'STANDARD'},\n",
       " {'Key': '14022023/Screenshot_20230214_021855.png',\n",
       "  'LastModified': datetime.datetime(2023, 2, 14, 14, 20, 45, tzinfo=tzutc()),\n",
       "  'ETag': '\"ba5599cbc2bdec2cfca614fd626388db\"',\n",
       "  'Size': 84567,\n",
       "  'StorageClass': 'STANDARD'},\n",
       " {'Key': '14022023/Screenshot_20230214_023139.png',\n",
       "  'LastModified': datetime.datetime(2023, 2, 14, 14, 20, 45, tzinfo=tzutc()),\n",
       "  'ETag': '\"88cb2b3fb66fb11e1b36bf464f321149\"',\n",
       "  'Size': 53166,\n",
       "  'StorageClass': 'STANDARD'},\n",
       " {'Key': '14022023/Screenshot_20230214_023144.png',\n",
       "  'LastModified': datetime.datetime(2023, 2, 14, 14, 20, 46, tzinfo=tzutc()),\n",
       "  'ETag': '\"40edc63fdd716519fc0473530e0dcb37\"',\n",
       "  'Size': 72960,\n",
       "  'StorageClass': 'STANDARD'},\n",
       " {'Key': '14022023/Screenshot_20230214_023154.png',\n",
       "  'LastModified': datetime.datetime(2023, 2, 14, 14, 20, 46, tzinfo=tzutc()),\n",
       "  'ETag': '\"1f7fdef985cf37be1ec2776dc0c15608\"',\n",
       "  'Size': 90821,\n",
       "  'StorageClass': 'STANDARD'},\n",
       " {'Key': '14022023/Screenshot_20230214_061125.png',\n",
       "  'LastModified': datetime.datetime(2023, 2, 14, 14, 20, 47, tzinfo=tzutc()),\n",
       "  'ETag': '\"2e23dfd4e7d6a41ad4f7fc9550197ed5\"',\n",
       "  'Size': 90901,\n",
       "  'StorageClass': 'STANDARD'},\n",
       " {'Key': '14022023/Screenshot_20230214_095937.png',\n",
       "  'LastModified': datetime.datetime(2023, 2, 14, 14, 20, 47, tzinfo=tzutc()),\n",
       "  'ETag': '\"9ed7a7095ff1d53a7168310e407b206a\"',\n",
       "  'Size': 131710,\n",
       "  'StorageClass': 'STANDARD'},\n",
       " {'Key': '21368576_1661452480562878_8933920407147048719_o.jpg',\n",
       "  'LastModified': datetime.datetime(2023, 2, 14, 14, 22, 46, tzinfo=tzutc()),\n",
       "  'ETag': '\"3edb5079671ff240246e9a3a7943ddd1\"',\n",
       "  'Size': 163611,\n",
       "  'StorageClass': 'STANDARD'},\n",
       " {'Key': 'AWS-vs-Azure-vs-GCP.png',\n",
       "  'LastModified': datetime.datetime(2023, 2, 14, 14, 22, 49, tzinfo=tzutc()),\n",
       "  'ETag': '\"a4f8c0d4ecec982d3308bd5314be7046\"',\n",
       "  'Size': 182045,\n",
       "  'StorageClass': 'STANDARD'},\n",
       " {'Key': 'index.png',\n",
       "  'LastModified': datetime.datetime(2023, 2, 14, 14, 22, 51, tzinfo=tzutc()),\n",
       "  'ETag': '\"54e81527d4eeb19fd7b5661dc2fcc060\"',\n",
       "  'Size': 9738,\n",
       "  'StorageClass': 'STANDARD'},\n",
       " {'Key': 'large_1612697826664.jpg',\n",
       "  'LastModified': datetime.datetime(2023, 2, 14, 14, 22, 53, tzinfo=tzutc()),\n",
       "  'ETag': '\"ba04bea40da0e9361ad7707765497add\"',\n",
       "  'Size': 37151,\n",
       "  'StorageClass': 'STANDARD'},\n",
       " {'Key': 'v2cmfx8rbdv11.jpg',\n",
       "  'LastModified': datetime.datetime(2023, 2, 14, 14, 22, 55, tzinfo=tzutc()),\n",
       "  'ETag': '\"9cbc44e1b2bff71a1d02a37b45a31fe3\"',\n",
       "  'Size': 116755,\n",
       "  'StorageClass': 'STANDARD'},\n",
       " {'Key': 'wallpaperflare.com_wallpaper.jpg',\n",
       "  'LastModified': datetime.datetime(2023, 2, 14, 14, 22, 57, tzinfo=tzutc()),\n",
       "  'ETag': '\"425b8387f9a13885e75930a9dd3085f3\"',\n",
       "  'Size': 299316,\n",
       "  'StorageClass': 'STANDARD'},\n",
       " {'Key': 'wide-3.jpg',\n",
       "  'LastModified': datetime.datetime(2023, 2, 14, 14, 22, 59, tzinfo=tzutc()),\n",
       "  'ETag': '\"32ff78f37419f33cd47918aa7fa3c6d5\"',\n",
       "  'Size': 37427,\n",
       "  'StorageClass': 'STANDARD'}]"
      ]
     },
     "execution_count": 67,
     "metadata": {},
     "output_type": "execute_result"
    }
   ],
   "source": [
    "get_contents"
   ]
  },
  {
   "cell_type": "code",
   "execution_count": 68,
   "metadata": {},
   "outputs": [],
   "source": [
    "get_all_s3_object_and_folder_names = []\n",
    "\n",
    "for item in get_contents:\n",
    "    s3_object_name = item.get(\"Key\")\n",
    "    get_all_s3_object_and_folder_names.append(s3_object_name)"
   ]
  },
  {
   "cell_type": "code",
   "execution_count": 69,
   "metadata": {},
   "outputs": [
    {
     "data": {
      "text/plain": [
       "['14022023/',\n",
       " '14022023/Screenshot_20230214_020948.png',\n",
       " '14022023/Screenshot_20230214_020955.png',\n",
       " '14022023/Screenshot_20230214_021245.png',\n",
       " '14022023/Screenshot_20230214_021855.png',\n",
       " '14022023/Screenshot_20230214_023139.png',\n",
       " '14022023/Screenshot_20230214_023144.png',\n",
       " '14022023/Screenshot_20230214_023154.png',\n",
       " '14022023/Screenshot_20230214_061125.png',\n",
       " '14022023/Screenshot_20230214_095937.png',\n",
       " '21368576_1661452480562878_8933920407147048719_o.jpg',\n",
       " 'AWS-vs-Azure-vs-GCP.png',\n",
       " 'index.png',\n",
       " 'large_1612697826664.jpg',\n",
       " 'v2cmfx8rbdv11.jpg',\n",
       " 'wallpaperflare.com_wallpaper.jpg',\n",
       " 'wide-3.jpg']"
      ]
     },
     "execution_count": 69,
     "metadata": {},
     "output_type": "execute_result"
    }
   ],
   "source": [
    "get_all_s3_object_and_folder_names"
   ]
  },
  {
   "cell_type": "code",
   "execution_count": 70,
   "metadata": {},
   "outputs": [],
   "source": [
    "directory_name = today_formated + \"/\""
   ]
  },
  {
   "cell_type": "code",
   "execution_count": 71,
   "metadata": {},
   "outputs": [
    {
     "data": {
      "text/plain": [
       "'14022023/'"
      ]
     },
     "execution_count": 71,
     "metadata": {},
     "output_type": "execute_result"
    }
   ],
   "source": [
    "directory_name"
   ]
  },
  {
   "cell_type": "code",
   "execution_count": 72,
   "metadata": {},
   "outputs": [],
   "source": [
    "if directory_name not in get_all_s3_object_and_folder_names:\n",
    "    s3_client.put_object(Bucket=bucket_name, Key=(directory_name))"
   ]
  },
  {
   "cell_type": "code",
   "execution_count": 73,
   "metadata": {},
   "outputs": [],
   "source": [
    "for item in get_contents:\n",
    "    object_creation_date = item.get(\"LastModified\").strftime(\"%d%m%Y\") + \"/\"\n",
    "    object_name = item.get(\"Key\")\n",
    "\n",
    "    if object_creation_date == directory_name and \"/\" not in object_name:\n",
    "        s3_client.copy_object(Bucket=bucket_name, CopySource=bucket_name+\"/\"+object_name, Key=directory_name+object_name)\n",
    "        s3_client.delete_object(Bucket=bucket_name,Key=object_name)"
   ]
  }
 ],
 "metadata": {
  "kernelspec": {
   "display_name": "base",
   "language": "python",
   "name": "python3"
  },
  "language_info": {
   "codemirror_mode": {
    "name": "ipython",
    "version": 3
   },
   "file_extension": ".py",
   "mimetype": "text/x-python",
   "name": "python",
   "nbconvert_exporter": "python",
   "pygments_lexer": "ipython3",
   "version": "3.9.13"
  },
  "orig_nbformat": 4,
  "vscode": {
   "interpreter": {
    "hash": "745acbd60b3d3a97c5945352b8ea4157d78b838f777f5ff9015d2ad09d6a6d28"
   }
  }
 },
 "nbformat": 4,
 "nbformat_minor": 2
}
